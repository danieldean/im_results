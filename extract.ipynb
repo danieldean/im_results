{
 "cells": [
  {
   "cell_type": "code",
   "execution_count": 1,
   "metadata": {},
   "outputs": [],
   "source": [
    "import rtrtme\n",
    "import pandas as pd\n",
    "import json\n",
    "import numpy as np"
   ]
  },
  {
   "cell_type": "code",
   "execution_count": 2,
   "metadata": {},
   "outputs": [],
   "source": [
    "data_dir = \"data\""
   ]
  },
  {
   "cell_type": "code",
   "execution_count": 3,
   "metadata": {},
   "outputs": [],
   "source": [
    "client = rtrtme.RTRTMePy()"
   ]
  },
  {
   "cell_type": "code",
   "execution_count": 4,
   "metadata": {},
   "outputs": [],
   "source": [
    "client.load_config()"
   ]
  },
  {
   "cell_type": "code",
   "execution_count": 74,
   "metadata": {},
   "outputs": [],
   "source": [
    "event_name = \"IRM-PUERTOPRINCESA703-2025\"  # \"IRM-OMAN703-2025\""
   ]
  },
  {
   "cell_type": "code",
   "execution_count": 6,
   "metadata": {},
   "outputs": [
    {
     "name": "stdout",
     "output_type": "stream",
     "text": [
      "Registration not required as the token is still valid.\n",
      "Fetched data from 'events/IRM-PUERTOPRINCESA703-2025'...\n"
     ]
    }
   ],
   "source": [
    "event = client.get(f\"events/{event_name}\")"
   ]
  },
  {
   "cell_type": "code",
   "execution_count": 7,
   "metadata": {},
   "outputs": [],
   "source": [
    "event_date = event[\"date\"].replace(\"-\", \"\")"
   ]
  },
  {
   "cell_type": "code",
   "execution_count": 8,
   "metadata": {},
   "outputs": [],
   "source": [
    "json.dump(event, open(f\"{data_dir}/json/{event_date}_{event_name.lower()}_event.json\", \"wt\"), indent=4, ensure_ascii=False)"
   ]
  },
  {
   "cell_type": "code",
   "execution_count": 9,
   "metadata": {},
   "outputs": [
    {
     "name": "stdout",
     "output_type": "stream",
     "text": [
      "Registration not required as the token is still valid.\n",
      "Fetched page 1 of Unknown from 'events/IRM-PUERTOPRINCESA703-2025/profiles'...\n"
     ]
    }
   ],
   "source": [
    "pages = client.get_list(f\"events/{event_name}/profiles\", max=2000)"
   ]
  },
  {
   "cell_type": "code",
   "execution_count": 10,
   "metadata": {},
   "outputs": [],
   "source": [
    "json.dump(pages, open(f\"{data_dir}/json/{event_date}_{event_name.lower()}_profiles.json\", \"wt\"), indent=4, ensure_ascii=False)"
   ]
  },
  {
   "cell_type": "code",
   "execution_count": 11,
   "metadata": {},
   "outputs": [],
   "source": [
    "profiles = [profile for page in pages for profile in page[\"list\"]]"
   ]
  },
  {
   "cell_type": "code",
   "execution_count": 12,
   "metadata": {},
   "outputs": [
    {
     "name": "stdout",
     "output_type": "stream",
     "text": [
      "Fetching 1 of 380...\n",
      "Fetching 2 of 380...\n",
      "Fetching 3 of 380...\n",
      "Fetching 4 of 380...\n",
      "Fetching 5 of 380...\n",
      "Fetching 6 of 380...\n",
      "Fetching 7 of 380...\n",
      "Fetching 8 of 380...\n",
      "Fetching 9 of 380...\n",
      "No results for RB3DNMXY with class ag?\n",
      "Fetching 10 of 380...\n",
      "Fetching 11 of 380...\n",
      "Fetching 12 of 380...\n",
      "Fetching 13 of 380...\n",
      "Fetching 14 of 380...\n",
      "Fetching 15 of 380...\n",
      "Fetching 16 of 380...\n",
      "No results for RTA26PSJ with class ag?\n",
      "Fetching 17 of 380...\n",
      "Fetching 18 of 380...\n",
      "Fetching 19 of 380...\n",
      "Fetching 20 of 380...\n",
      "Fetching 21 of 380...\n",
      "Fetching 22 of 380...\n",
      "Fetching 23 of 380...\n",
      "Fetching 24 of 380...\n",
      "Fetching 25 of 380...\n",
      "Fetching 26 of 380...\n",
      "Fetching 27 of 380...\n",
      "Fetching 28 of 380...\n",
      "Fetching 29 of 380...\n",
      "Fetching 30 of 380...\n",
      "Fetching 31 of 380...\n",
      "Fetching 32 of 380...\n",
      "Fetching 33 of 380...\n",
      "Fetching 34 of 380...\n",
      "Fetching 35 of 380...\n",
      "Fetching 36 of 380...\n",
      "Fetching 37 of 380...\n",
      "Fetching 38 of 380...\n",
      "Fetching 39 of 380...\n",
      "Fetching 40 of 380...\n",
      "Fetching 41 of 380...\n",
      "Fetching 42 of 380...\n",
      "Fetching 43 of 380...\n",
      "Fetching 44 of 380...\n",
      "Fetching 45 of 380...\n",
      "Fetching 46 of 380...\n",
      "Fetching 47 of 380...\n",
      "Fetching 48 of 380...\n",
      "Fetching 49 of 380...\n",
      "Fetching 50 of 380...\n",
      "Fetching 51 of 380...\n",
      "Fetching 52 of 380...\n",
      "Fetching 53 of 380...\n",
      "Fetching 54 of 380...\n",
      "Fetching 55 of 380...\n",
      "Fetching 56 of 380...\n",
      "Fetching 57 of 380...\n",
      "Fetching 58 of 380...\n",
      "Fetching 59 of 380...\n",
      "Fetching 60 of 380...\n",
      "Fetching 61 of 380...\n",
      "Fetching 62 of 380...\n",
      "Fetching 63 of 380...\n",
      "Fetching 64 of 380...\n",
      "Fetching 65 of 380...\n",
      "Fetching 66 of 380...\n",
      "Fetching 67 of 380...\n",
      "Fetching 68 of 380...\n",
      "Fetching 69 of 380...\n",
      "Fetching 70 of 380...\n",
      "Fetching 71 of 380...\n",
      "Fetching 72 of 380...\n",
      "Fetching 73 of 380...\n",
      "No results for REGKZC8S with class ag?\n",
      "Fetching 74 of 380...\n",
      "No results for RW275VXE with class ag?\n",
      "Fetching 75 of 380...\n",
      "Fetching 76 of 380...\n",
      "Fetching 77 of 380...\n",
      "Fetching 78 of 380...\n",
      "Fetching 79 of 380...\n",
      "Fetching 80 of 380...\n",
      "Fetching 81 of 380...\n",
      "Fetching 82 of 380...\n",
      "Fetching 83 of 380...\n",
      "Fetching 84 of 380...\n",
      "Fetching 85 of 380...\n",
      "Fetching 86 of 380...\n",
      "Fetching 87 of 380...\n",
      "Fetching 88 of 380...\n",
      "Fetching 89 of 380...\n",
      "Fetching 90 of 380...\n",
      "Fetching 91 of 380...\n",
      "Fetching 92 of 380...\n",
      "Fetching 93 of 380...\n",
      "Fetching 94 of 380...\n",
      "Fetching 95 of 380...\n",
      "No results for RJVEPUZH with class ag?\n",
      "Fetching 96 of 380...\n",
      "Fetching 97 of 380...\n",
      "Fetching 98 of 380...\n",
      "Fetching 99 of 380...\n",
      "Fetching 100 of 380...\n",
      "Fetching 101 of 380...\n",
      "Fetching 102 of 380...\n",
      "Fetching 103 of 380...\n",
      "Fetching 104 of 380...\n",
      "Fetching 105 of 380...\n",
      "Fetching 106 of 380...\n",
      "Fetching 107 of 380...\n",
      "Fetching 108 of 380...\n",
      "Fetching 109 of 380...\n",
      "Fetching 110 of 380...\n",
      "No results for REW8LSFK with class ag?\n",
      "Fetching 111 of 380...\n",
      "Fetching 112 of 380...\n",
      "Fetching 113 of 380...\n",
      "Fetching 114 of 380...\n",
      "Fetching 115 of 380...\n",
      "Fetching 116 of 380...\n",
      "Fetching 117 of 380...\n",
      "No results for R9E2SFJB with class ag?\n",
      "Fetching 118 of 380...\n",
      "Fetching 119 of 380...\n",
      "Fetching 120 of 380...\n",
      "Fetching 121 of 380...\n",
      "Fetching 122 of 380...\n",
      "Fetching 123 of 380...\n",
      "Fetching 124 of 380...\n",
      "No results for RE8BTPSV with class ag?\n",
      "Fetching 125 of 380...\n",
      "Fetching 126 of 380...\n",
      "Fetching 127 of 380...\n",
      "Fetching 128 of 380...\n",
      "Fetching 129 of 380...\n",
      "Fetching 130 of 380...\n",
      "Fetching 131 of 380...\n",
      "Fetching 132 of 380...\n",
      "Fetching 133 of 380...\n",
      "Fetching 134 of 380...\n",
      "No results for R2Z8MLED with class ag?\n",
      "Fetching 135 of 380...\n",
      "Fetching 136 of 380...\n",
      "Fetching 137 of 380...\n",
      "Fetching 138 of 380...\n",
      "Fetching 139 of 380...\n",
      "No results for RDXH9UB8 with class ag?\n",
      "Fetching 140 of 380...\n",
      "Fetching 141 of 380...\n",
      "Fetching 142 of 380...\n",
      "Fetching 143 of 380...\n",
      "Fetching 144 of 380...\n",
      "Fetching 145 of 380...\n",
      "Fetching 146 of 380...\n",
      "Fetching 147 of 380...\n",
      "Fetching 148 of 380...\n",
      "Fetching 149 of 380...\n",
      "Fetching 150 of 380...\n",
      "Fetching 151 of 380...\n",
      "No results for RSEUPWJ8 with class ag?\n",
      "Fetching 152 of 380...\n",
      "Fetching 153 of 380...\n",
      "No results for RBVJE8X6 with class ag?\n",
      "Fetching 154 of 380...\n",
      "Fetching 155 of 380...\n",
      "Fetching 156 of 380...\n",
      "Fetching 157 of 380...\n",
      "Fetching 158 of 380...\n",
      "Fetching 159 of 380...\n",
      "Fetching 160 of 380...\n",
      "Fetching 161 of 380...\n",
      "Fetching 162 of 380...\n",
      "Fetching 163 of 380...\n",
      "No results for RSMNRJW7 with class ag?\n",
      "Fetching 164 of 380...\n",
      "Fetching 165 of 380...\n",
      "Fetching 166 of 380...\n",
      "Fetching 167 of 380...\n",
      "Fetching 168 of 380...\n",
      "Fetching 169 of 380...\n",
      "Fetching 170 of 380...\n",
      "Fetching 171 of 380...\n",
      "Fetching 172 of 380...\n",
      "Fetching 173 of 380...\n",
      "Fetching 174 of 380...\n",
      "Fetching 175 of 380...\n",
      "Fetching 176 of 380...\n",
      "Fetching 177 of 380...\n",
      "Fetching 178 of 380...\n",
      "Fetching 179 of 380...\n",
      "Fetching 180 of 380...\n",
      "Fetching 181 of 380...\n",
      "Fetching 182 of 380...\n",
      "Fetching 183 of 380...\n",
      "Fetching 184 of 380...\n",
      "Fetching 185 of 380...\n",
      "Fetching 186 of 380...\n",
      "Fetching 187 of 380...\n",
      "Fetching 188 of 380...\n",
      "No results for RKLJEYXT with class ag?\n",
      "Fetching 189 of 380...\n",
      "Fetching 190 of 380...\n",
      "Fetching 191 of 380...\n",
      "Fetching 192 of 380...\n",
      "Fetching 193 of 380...\n",
      "Fetching 194 of 380...\n",
      "Fetching 195 of 380...\n",
      "Fetching 196 of 380...\n",
      "No results for RP2ZNRDA with class ag?\n",
      "Fetching 197 of 380...\n",
      "Fetching 198 of 380...\n",
      "Fetching 199 of 380...\n",
      "Fetching 200 of 380...\n",
      "Fetching 201 of 380...\n",
      "Fetching 202 of 380...\n",
      "No results for RCFRJ8BT with class ag?\n",
      "Fetching 203 of 380...\n",
      "Fetching 204 of 380...\n",
      "Fetching 205 of 380...\n",
      "Fetching 206 of 380...\n",
      "Fetching 207 of 380...\n",
      "Fetching 208 of 380...\n",
      "Fetching 209 of 380...\n",
      "Fetching 210 of 380...\n",
      "Fetching 211 of 380...\n",
      "Fetching 212 of 380...\n",
      "Fetching 213 of 380...\n",
      "Fetching 214 of 380...\n",
      "Fetching 215 of 380...\n",
      "Fetching 216 of 380...\n",
      "Fetching 217 of 380...\n",
      "Fetching 218 of 380...\n",
      "Fetching 219 of 380...\n",
      "No results for RW2PNM65 with class ag?\n",
      "Fetching 220 of 380...\n",
      "Fetching 221 of 380...\n",
      "Fetching 222 of 380...\n",
      "Fetching 223 of 380...\n",
      "Fetching 224 of 380...\n",
      "No results for RNWZUH78 with class ag?\n",
      "Fetching 225 of 380...\n",
      "No results for RZADG5FC with class ag?\n",
      "Fetching 226 of 380...\n",
      "Fetching 227 of 380...\n",
      "Fetching 228 of 380...\n",
      "Fetching 229 of 380...\n",
      "Fetching 230 of 380...\n",
      "Fetching 231 of 380...\n",
      "Fetching 232 of 380...\n",
      "No results for RYNX6CBF with class ag?\n",
      "Fetching 233 of 380...\n",
      "No results for R9MC6S5T with class ag?\n",
      "Fetching 234 of 380...\n",
      "Fetching 235 of 380...\n",
      "Fetching 236 of 380...\n",
      "Fetching 237 of 380...\n",
      "Fetching 238 of 380...\n",
      "Fetching 239 of 380...\n",
      "Fetching 240 of 380...\n",
      "Fetching 241 of 380...\n",
      "Fetching 242 of 380...\n",
      "Fetching 243 of 380...\n",
      "Fetching 244 of 380...\n",
      "Fetching 245 of 380...\n",
      "Fetching 246 of 380...\n",
      "Fetching 247 of 380...\n",
      "Fetching 248 of 380...\n",
      "Fetching 249 of 380...\n",
      "Fetching 250 of 380...\n",
      "Fetching 251 of 380...\n",
      "Fetching 252 of 380...\n",
      "Fetching 253 of 380...\n",
      "Fetching 254 of 380...\n",
      "Fetching 255 of 380...\n",
      "Fetching 256 of 380...\n",
      "Fetching 257 of 380...\n",
      "Fetching 258 of 380...\n",
      "No results for R5SVHYFP with class ag?\n",
      "Fetching 259 of 380...\n",
      "Fetching 260 of 380...\n",
      "Fetching 261 of 380...\n",
      "Fetching 262 of 380...\n",
      "Fetching 263 of 380...\n",
      "Fetching 264 of 380...\n",
      "Fetching 265 of 380...\n",
      "Fetching 266 of 380...\n",
      "Fetching 267 of 380...\n",
      "Fetching 268 of 380...\n",
      "Fetching 269 of 380...\n",
      "Fetching 270 of 380...\n",
      "Fetching 271 of 380...\n",
      "Fetching 272 of 380...\n",
      "Fetching 273 of 380...\n",
      "No results for R5YHEDBM with class ag?\n",
      "Fetching 274 of 380...\n",
      "Fetching 275 of 380...\n",
      "Fetching 276 of 380...\n",
      "Fetching 277 of 380...\n",
      "Fetching 278 of 380...\n",
      "Fetching 279 of 380...\n",
      "Fetching 280 of 380...\n",
      "Fetching 281 of 380...\n",
      "Fetching 282 of 380...\n",
      "Fetching 283 of 380...\n",
      "Fetching 284 of 380...\n",
      "Fetching 285 of 380...\n",
      "Fetching 286 of 380...\n",
      "Fetching 287 of 380...\n",
      "Fetching 288 of 380...\n",
      "Fetching 289 of 380...\n",
      "Fetching 290 of 380...\n",
      "Fetching 291 of 380...\n",
      "Fetching 292 of 380...\n",
      "Fetching 293 of 380...\n",
      "Fetching 294 of 380...\n",
      "Fetching 295 of 380...\n",
      "Fetching 296 of 380...\n",
      "Fetching 297 of 380...\n",
      "Fetching 298 of 380...\n",
      "Fetching 299 of 380...\n",
      "Fetching 300 of 380...\n",
      "Fetching 301 of 380...\n",
      "Fetching 302 of 380...\n",
      "Fetching 303 of 380...\n",
      "Fetching 304 of 380...\n",
      "Fetching 305 of 380...\n",
      "Fetching 306 of 380...\n",
      "Fetching 307 of 380...\n",
      "Fetching 308 of 380...\n",
      "Fetching 309 of 380...\n",
      "Fetching 310 of 380...\n",
      "Fetching 311 of 380...\n",
      "Fetching 312 of 380...\n",
      "Fetching 313 of 380...\n",
      "Fetching 314 of 380...\n",
      "Fetching 315 of 380...\n",
      "Fetching 316 of 380...\n",
      "Fetching 317 of 380...\n",
      "Fetching 318 of 380...\n",
      "Fetching 319 of 380...\n",
      "Fetching 320 of 380...\n",
      "Fetching 321 of 380...\n",
      "Fetching 322 of 380...\n",
      "Fetching 323 of 380...\n",
      "Fetching 324 of 380...\n",
      "Fetching 325 of 380...\n",
      "Fetching 326 of 380...\n",
      "Fetching 327 of 380...\n",
      "Fetching 328 of 380...\n",
      "Fetching 329 of 380...\n",
      "Fetching 330 of 380...\n",
      "Fetching 331 of 380...\n",
      "Fetching 332 of 380...\n",
      "Fetching 333 of 380...\n",
      "Fetching 334 of 380...\n",
      "Fetching 335 of 380...\n",
      "No results for R4AM9YSR with class ag?\n",
      "Fetching 336 of 380...\n",
      "Fetching 337 of 380...\n",
      "Fetching 338 of 380...\n",
      "Fetching 339 of 380...\n",
      "Fetching 340 of 380...\n",
      "Fetching 341 of 380...\n",
      "Fetching 342 of 380...\n",
      "Fetching 343 of 380...\n",
      "Fetching 344 of 380...\n",
      "Fetching 345 of 380...\n",
      "Fetching 346 of 380...\n",
      "No results for RPRD6GTH with class ag?\n",
      "Fetching 347 of 380...\n",
      "Fetching 348 of 380...\n",
      "Fetching 349 of 380...\n",
      "Fetching 350 of 380...\n",
      "Fetching 351 of 380...\n",
      "Fetching 352 of 380...\n",
      "Fetching 353 of 380...\n",
      "Fetching 354 of 380...\n",
      "Fetching 355 of 380...\n",
      "Fetching 356 of 380...\n",
      "Fetching 357 of 380...\n",
      "Fetching 358 of 380...\n",
      "Fetching 359 of 380...\n",
      "Fetching 360 of 380...\n",
      "Fetching 361 of 380...\n",
      "Fetching 362 of 380...\n",
      "Fetching 363 of 380...\n",
      "Fetching 364 of 380...\n",
      "Fetching 365 of 380...\n",
      "Fetching 366 of 380...\n",
      "Fetching 367 of 380...\n",
      "Fetching 368 of 380...\n",
      "Fetching 369 of 380...\n",
      "Fetching 370 of 380...\n",
      "Fetching 371 of 380...\n",
      "Fetching 372 of 380...\n",
      "Fetching 373 of 380...\n",
      "Fetching 374 of 380...\n",
      "No results for RVGPTH5W with class ag?\n",
      "Fetching 375 of 380...\n",
      "Fetching 376 of 380...\n",
      "Fetching 377 of 380...\n",
      "No results for RLU9TZV8 with class ag?\n",
      "Fetching 378 of 380...\n",
      "No results for RMBL2KFU with class ag?\n",
      "Fetching 379 of 380...\n",
      "Fetching 380 of 380...\n",
      "No results for RYH78X56 with class ag?\n"
     ]
    }
   ],
   "source": [
    "results = list()\n",
    "for i in range(0, len(profiles)):\n",
    "    print(f\"Fetching {i + 1} of {len(profiles)}...\")\n",
    "    try:\n",
    "        data = client._get(f\"events/{event_name}/profiles/{profiles[i]['pid']}/splits\", quite=True)\n",
    "        results.append(data)\n",
    "    except rtrtme.APIException:\n",
    "        print(f\"No results for {profiles[i]['pid']} with class {profiles[i]['class']}?\")"
   ]
  },
  {
   "cell_type": "code",
   "execution_count": 13,
   "metadata": {},
   "outputs": [],
   "source": [
    "json.dump(results, open(f\"{data_dir}/json/{event_date}_{event_name.lower()}_results.json\", \"wt\"), indent=4)"
   ]
  },
  {
   "cell_type": "code",
   "execution_count": 75,
   "metadata": {},
   "outputs": [],
   "source": [
    "# Can reload to adjust transformation rather than re-request everything\n",
    "pages = json.load(open(f\"{data_dir}/json/{event_date}_{event_name.lower()}_results.json\", \"rt\"))"
   ]
  },
  {
   "cell_type": "code",
   "execution_count": 76,
   "metadata": {},
   "outputs": [],
   "source": [
    "df = pd.DataFrame([split for page in pages for result in page for split in result[\"list\"]])"
   ]
  },
  {
   "cell_type": "code",
   "execution_count": 77,
   "metadata": {},
   "outputs": [],
   "source": [
    "df = df.loc[df[\"course\"] == \"tri_sprint\", :]\n",
    "event_name = \"IRM-PUERTOPRINCESA-SPRINT-2025\""
   ]
  },
  {
   "cell_type": "code",
   "execution_count": 78,
   "metadata": {},
   "outputs": [],
   "source": [
    "df.loc[df[\"point\"].str.contains(\"-703\"), \"point\"] = df[\"point\"].str.replace(\"-703\", \"\")\n",
    "df.loc[df[\"point\"].str.endswith(\"_S\"), \"point\"] = df[\"point\"].str.replace(\"_S\", \"\")"
   ]
  },
  {
   "cell_type": "code",
   "execution_count": 79,
   "metadata": {},
   "outputs": [],
   "source": [
    "df[\"splitTimeSeconds\"] = pd.to_timedelta(df[\"splitTime\"])\n",
    "df[\"legTimeSeconds\"] = pd.to_timedelta(df[\"legTime\"])\n",
    "df[\"netTimeSeconds\"] = pd.to_timedelta(df[\"netTime\"])\n",
    "df[\"waveTimeSeconds\"] = pd.to_timedelta(df[\"waveTime\"])\n",
    "\n",
    "df[\"splitTimeSeconds\"] = df[\"splitTimeSeconds\"].dt.total_seconds()\n",
    "df[\"legTimeSeconds\"] = df[\"legTimeSeconds\"].dt.total_seconds()\n",
    "df[\"netTimeSeconds\"] = df[\"netTimeSeconds\"].dt.total_seconds()\n",
    "df[\"waveTimeSeconds\"] = df[\"waveTimeSeconds\"].dt.total_seconds()\n",
    "\n",
    "df.loc[df[\"point\"] == \"START\", \"splitTimeSeconds\"] = df[\"splitTimeSeconds\"].fillna(0)\n",
    "df.loc[df[\"point\"] == \"START\", \"legTimeSeconds\"] = df[\"legTimeSeconds\"].fillna(0)\n",
    "df.loc[df[\"point\"] == \"START\", \"netTimeSeconds\"] = df[\"netTimeSeconds\"].fillna(0)\n",
    "df.loc[df[\"point\"] == \"START\", \"waveTimeSeconds\"] = df[\"waveTimeSeconds\"].fillna(0)"
   ]
  },
  {
   "cell_type": "code",
   "execution_count": 80,
   "metadata": {},
   "outputs": [],
   "source": [
    "df = df.drop(columns=[\"bib_display\", \"tag\", \"startTime\", \"profile_pic\", \"profile_color\", \"_ver\", \"alias\", \"course\", \"i\", \"u\", \"etnp\", \"etfp\", \"results\"])"
   ]
  },
  {
   "cell_type": "code",
   "execution_count": 81,
   "metadata": {},
   "outputs": [],
   "source": [
    "df.loc[df[\"division\"].str.contains(\"RELAY\", na=False, case=False), \"divisionType\"] = \"RELAY\"\n",
    "df.loc[df[\"division\"].str.contains(\"ODIV\", na=False, case=False), \"divisionType\"] = \"OPEN\"\n",
    "df.loc[df[\"division\"].str.contains(\"PC\", na=False, case=False), \"divisionType\"] = \"PC\"\n",
    "df.loc[df[\"division\"].str.contains(\"GUIDE\", na=False, case=False), \"divisionType\"] = \"GUIDE\"\n",
    "df.loc[df[\"division\"].str.contains(\"PRO\", na=False, case=False), \"divisionType\"] = \"PRO\"\n",
    "df[\"divisionType\"] = df[\"divisionType\"].fillna(\"AG\")\n",
    "#df[\"divisionType\"] = df[\"divisionType\"].fillna(\"PRO-AG\")"
   ]
  },
  {
   "cell_type": "code",
   "execution_count": 82,
   "metadata": {},
   "outputs": [],
   "source": [
    "df[\"legDivPos\"] = df.loc[df[\"point\"].isin([\"SWIM\", \"T1\", \"BIKE\", \"T2\", \"FINISH\"]), :].groupby(by=[\"point\", \"divisionType\", \"division\"])[\"legTimeSeconds\"].rank(\"dense\")\n",
    "df[\"legSexPos\"] = df.loc[df[\"point\"].isin([\"SWIM\", \"T1\", \"BIKE\", \"T2\", \"FINISH\"]), :].groupby(by=[\"point\", \"divisionType\", \"sex\"])[\"legTimeSeconds\"].rank(\"dense\")\n",
    "df[\"legOvrPos\"] = df.loc[df[\"point\"].isin([\"SWIM\", \"T1\", \"BIKE\", \"T2\", \"FINISH\"]), :].groupby(by=[\"point\", \"divisionType\"])[\"legTimeSeconds\"].rank(\"dense\")\n",
    "\n",
    "df[\"finDivPos\"] = df.loc[df[\"point\"] == \"FINISH\", :].groupby(by=[\"point\", \"divisionType\", \"division\"])[\"netTimeSeconds\"].rank(\"dense\")\n",
    "df[\"finSexPos\"] = df.loc[df[\"point\"] == \"FINISH\", :].groupby(by=[\"point\", \"divisionType\", \"sex\"])[\"netTimeSeconds\"].rank(\"dense\")\n",
    "df[\"finOvrPos\"] = df.loc[df[\"point\"] == \"FINISH\", :].groupby(by=[\"point\", \"divisionType\"])[\"netTimeSeconds\"].rank(\"dense\")"
   ]
  },
  {
   "cell_type": "code",
   "execution_count": 83,
   "metadata": {},
   "outputs": [],
   "source": [
    "points = df.groupby(\"point\")[[\"netTimeSeconds\"]].min()\n",
    "points[\"pointNum\"] = points[\"netTimeSeconds\"].rank(method=\"dense\").astype(\"int64\")\n",
    "points = points.drop(columns=[\"netTimeSeconds\"])"
   ]
  },
  {
   "cell_type": "code",
   "execution_count": 84,
   "metadata": {},
   "outputs": [],
   "source": [
    "df = df.join(points[\"pointNum\"], on=\"point\")"
   ]
  },
  {
   "cell_type": "code",
   "execution_count": 85,
   "metadata": {},
   "outputs": [],
   "source": [
    "df[\"maxPointNum\"] = df.groupby(by=[\"pid\"])[\"pointNum\"].transform(\"max\")"
   ]
  },
  {
   "cell_type": "code",
   "execution_count": 86,
   "metadata": {},
   "outputs": [],
   "source": [
    "df[\"maxPointNetTimeSeconds\"] = df.loc[df[\"pointNum\"] == df[\"maxPointNum\"], \"netTimeSeconds\"]\n",
    "df[\"maxPointNetTimeSeconds\"] = df.groupby(by=[\"pid\"])[\"maxPointNetTimeSeconds\"].transform(\"min\")"
   ]
  },
  {
   "cell_type": "code",
   "execution_count": 87,
   "metadata": {},
   "outputs": [],
   "source": [
    "df = df.sort_values(by=[\"maxPointNum\", \"maxPointNetTimeSeconds\"], ascending=[False, True])\n",
    "df[\"rank\"] = np.arange(len(df)) + 1\n",
    "df[\"rank\"] = df.groupby(by=[\"maxPointNum\", \"maxPointNetTimeSeconds\"])[\"rank\"].transform(\"mean\")\n",
    "df[\"rank\"] = df[\"rank\"].rank(method=\"dense\")"
   ]
  },
  {
   "cell_type": "code",
   "execution_count": 88,
   "metadata": {},
   "outputs": [],
   "source": [
    "df = df.sort_values(by=[\"rank\", \"pointNum\"])"
   ]
  },
  {
   "cell_type": "code",
   "execution_count": 89,
   "metadata": {},
   "outputs": [],
   "source": [
    "finishPointNum = df[\"pointNum\"].max()\n",
    "df[\"isDNF\"] = df[\"maxPointNum\"].values != finishPointNum"
   ]
  },
  {
   "cell_type": "code",
   "execution_count": 90,
   "metadata": {},
   "outputs": [],
   "source": [
    "df.reset_index(inplace=True, drop=True)"
   ]
  },
  {
   "cell_type": "code",
   "execution_count": 91,
   "metadata": {},
   "outputs": [],
   "source": [
    "df.to_csv(f\"{data_dir}/csv/{event_date}_{event_name.lower()}_tall.csv\")"
   ]
  },
  {
   "cell_type": "code",
   "execution_count": 92,
   "metadata": {},
   "outputs": [],
   "source": [
    "df.loc[df[\"point\"] == \"SWIMEND\", \"point\"] = \"SWIM\"\n",
    "df.loc[df[\"point\"] == \"BIKESTART\", \"point\"] = \"T1\"\n",
    "df.loc[df[\"point\"] == \"BIKEEND\", \"point\"] = \"BIKE\"\n",
    "df.loc[df[\"point\"] == \"RUNSTART\", \"point\"] = \"T2\""
   ]
  },
  {
   "cell_type": "code",
   "execution_count": 93,
   "metadata": {},
   "outputs": [],
   "source": [
    "df = df.loc[df[\"point\"].isin([\"SWIM\", \"T1\", \"BIKE\", \"T2\", \"FINISH\"]), :]\n",
    "df[\"point\"] = df[\"point\"].str.lower()\n",
    "df.loc[:, \"finDivPos\"] = df.groupby(by=[\"pid\"])[\"finDivPos\"].transform(\"max\")\n",
    "df.loc[:, \"finSexPos\"] = df.groupby(by=[\"pid\"])[\"finSexPos\"].transform(\"max\")\n",
    "df.loc[:, \"finOvrPos\"] = df.groupby(by=[\"pid\"])[\"finOvrPos\"].transform(\"max\")"
   ]
  },
  {
   "cell_type": "code",
   "execution_count": 94,
   "metadata": {},
   "outputs": [],
   "source": [
    "df.rename(columns={\"legTime\": \"LegTime\", \"netTime\": \"NetTime\"}, inplace=True)"
   ]
  },
  {
   "cell_type": "code",
   "execution_count": 95,
   "metadata": {},
   "outputs": [],
   "source": [
    "# Chunk by athlete to do the pivot\n",
    "dfs = [y for x, y in df.groupby('pid')]"
   ]
  },
  {
   "cell_type": "code",
   "execution_count": 96,
   "metadata": {},
   "outputs": [],
   "source": [
    "for i in range(0, len(dfs)):\n",
    "    dfs[i] = pd.pivot_table(\n",
    "        dfs[i],\n",
    "        values=[\"LegTime\", \"NetTime\"],\n",
    "        index=[\"rank\", \"bib\", \"name\", \"country\", \"sex\", \"division\", \"divisionType\", \"finDivPos\", \"finSexPos\", \"finOvrPos\", \"isDNF\"],\n",
    "        columns=\"point\",\n",
    "        aggfunc=\"max\",\n",
    "        dropna=False,\n",
    "    )"
   ]
  },
  {
   "cell_type": "code",
   "execution_count": 97,
   "metadata": {},
   "outputs": [],
   "source": [
    "df = pd.concat(dfs)"
   ]
  },
  {
   "cell_type": "code",
   "execution_count": 98,
   "metadata": {},
   "outputs": [],
   "source": [
    "df = df.swaplevel(0, 1, axis=1).sort_index(axis=1)"
   ]
  },
  {
   "cell_type": "code",
   "execution_count": 99,
   "metadata": {},
   "outputs": [],
   "source": [
    "df = df.reindex(level=\"point\", columns=[\"swim\", \"t1\", \"bike\", \"t2\", \"finish\"])"
   ]
  },
  {
   "cell_type": "code",
   "execution_count": 100,
   "metadata": {},
   "outputs": [],
   "source": [
    "df.reset_index(inplace=True)"
   ]
  },
  {
   "cell_type": "code",
   "execution_count": 101,
   "metadata": {},
   "outputs": [],
   "source": [
    "# From: https://stackoverflow.com/a/66829689\n",
    "df = df.pipe(lambda s: s.set_axis(s.columns.map(\"\".join), axis=1))"
   ]
  },
  {
   "cell_type": "code",
   "execution_count": 102,
   "metadata": {},
   "outputs": [],
   "source": [
    "df = df.sort_values(by=[\"rank\"])"
   ]
  },
  {
   "cell_type": "code",
   "execution_count": 103,
   "metadata": {},
   "outputs": [],
   "source": [
    "df.reset_index(inplace=True, drop=True)"
   ]
  },
  {
   "cell_type": "code",
   "execution_count": 104,
   "metadata": {},
   "outputs": [],
   "source": [
    "df.to_csv(f\"{data_dir}/csv/{event_date}_{event_name.lower()}_wide.csv\")"
   ]
  }
 ],
 "metadata": {
  "kernelspec": {
   "display_name": "Python 3",
   "language": "python",
   "name": "python3"
  },
  "language_info": {
   "codemirror_mode": {
    "name": "ipython",
    "version": 3
   },
   "file_extension": ".py",
   "mimetype": "text/x-python",
   "name": "python",
   "nbconvert_exporter": "python",
   "pygments_lexer": "ipython3",
   "version": "3.10.12"
  }
 },
 "nbformat": 4,
 "nbformat_minor": 2
}
