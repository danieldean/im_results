{
 "cells": [
  {
   "cell_type": "code",
   "execution_count": null,
   "metadata": {},
   "outputs": [],
   "source": [
    "import rtrtme\n",
    "import pandas as pd\n",
    "import json\n",
    "import numpy as np"
   ]
  },
  {
   "cell_type": "code",
   "execution_count": null,
   "metadata": {},
   "outputs": [],
   "source": [
    "data_dir = \"data\""
   ]
  },
  {
   "cell_type": "code",
   "execution_count": null,
   "metadata": {},
   "outputs": [],
   "source": [
    "client = rtrtme.RTRTMePy()"
   ]
  },
  {
   "cell_type": "code",
   "execution_count": null,
   "metadata": {},
   "outputs": [],
   "source": [
    "client.load_config()"
   ]
  },
  {
   "cell_type": "code",
   "execution_count": null,
   "metadata": {},
   "outputs": [],
   "source": [
    "event_name = \"IRM-OMAN703-2025\""
   ]
  },
  {
   "cell_type": "code",
   "execution_count": null,
   "metadata": {},
   "outputs": [],
   "source": [
    "event = client.get(f\"events/{event_name}\")"
   ]
  },
  {
   "cell_type": "code",
   "execution_count": null,
   "metadata": {},
   "outputs": [],
   "source": [
    "event_date = event[\"date\"].replace(\"-\", \"\")"
   ]
  },
  {
   "cell_type": "code",
   "execution_count": null,
   "metadata": {},
   "outputs": [],
   "source": [
    "json.dump(event, open(f\"{data_dir}/json/{event_date}_{event_name.lower()}_event.json\", \"wt\"), indent=4, ensure_ascii=False)"
   ]
  },
  {
   "cell_type": "code",
   "execution_count": null,
   "metadata": {},
   "outputs": [],
   "source": [
    "pages = client.get_list(f\"events/{event_name}/profiles\", max=2000)"
   ]
  },
  {
   "cell_type": "code",
   "execution_count": null,
   "metadata": {},
   "outputs": [],
   "source": [
    "json.dump(pages, open(f\"{data_dir}/json/{event_date}_{event_name.lower()}_profiles.json\", \"wt\"), indent=4, ensure_ascii=False)"
   ]
  },
  {
   "cell_type": "code",
   "execution_count": null,
   "metadata": {},
   "outputs": [],
   "source": [
    "profiles = [profile for page in pages for profile in page[\"list\"]]"
   ]
  },
  {
   "cell_type": "code",
   "execution_count": null,
   "metadata": {},
   "outputs": [],
   "source": [
    "results = list()\n",
    "for i in range(0, len(profiles)):\n",
    "    print(f\"Fetching {i + 1} of {len(profiles)}...\")\n",
    "    try:\n",
    "        data = client._get(f\"events/{event_name}/profiles/{profiles[i]['pid']}/splits\", quite=True)\n",
    "        results.append(data)\n",
    "    except rtrtme.APIException:\n",
    "        print(f\"No results for {profiles[i]['pid']} with class {profiles[i]['class']}?\")"
   ]
  },
  {
   "cell_type": "code",
   "execution_count": null,
   "metadata": {},
   "outputs": [],
   "source": [
    "json.dump(results, open(f\"{data_dir}/json/{event_date}_{event_name.lower()}_results.json\", \"wt\"), indent=4)"
   ]
  },
  {
   "cell_type": "code",
   "execution_count": null,
   "metadata": {},
   "outputs": [],
   "source": [
    "# Can reload to adjust transformation rather than re-request everything\n",
    "pages = json.load(open(f\"{data_dir}/json/{event_date}_{event_name.lower()}_results.json\", \"rt\"))"
   ]
  },
  {
   "cell_type": "code",
   "execution_count": null,
   "metadata": {},
   "outputs": [],
   "source": [
    "df = pd.DataFrame([split for page in pages for result in page for split in result[\"list\"]])"
   ]
  },
  {
   "cell_type": "code",
   "execution_count": null,
   "metadata": {},
   "outputs": [],
   "source": [
    "df[\"splitTimeSeconds\"] = pd.to_timedelta(df[\"splitTime\"])\n",
    "df[\"legTimeSeconds\"] = pd.to_timedelta(df[\"legTime\"])\n",
    "df[\"netTimeSeconds\"] = pd.to_timedelta(df[\"netTime\"])\n",
    "df[\"waveTimeSeconds\"] = pd.to_timedelta(df[\"waveTime\"])\n",
    "\n",
    "df[\"splitTimeSeconds\"] = df[\"splitTimeSeconds\"].dt.total_seconds()\n",
    "df[\"legTimeSeconds\"] = df[\"legTimeSeconds\"].dt.total_seconds()\n",
    "df[\"netTimeSeconds\"] = df[\"netTimeSeconds\"].dt.total_seconds()\n",
    "df[\"waveTimeSeconds\"] = df[\"waveTimeSeconds\"].dt.total_seconds()\n",
    "\n",
    "df.loc[df[\"point\"] == \"START\", \"splitTimeSeconds\"] = df[\"splitTimeSeconds\"].fillna(0)\n",
    "df.loc[df[\"point\"] == \"START\", \"legTimeSeconds\"] = df[\"legTimeSeconds\"].fillna(0)\n",
    "df.loc[df[\"point\"] == \"START\", \"netTimeSeconds\"] = df[\"netTimeSeconds\"].fillna(0)\n",
    "df.loc[df[\"point\"] == \"START\", \"waveTimeSeconds\"] = df[\"waveTimeSeconds\"].fillna(0)"
   ]
  },
  {
   "cell_type": "code",
   "execution_count": null,
   "metadata": {},
   "outputs": [],
   "source": [
    "df = df.drop(columns=[\"bib_display\", \"tag\", \"startTime\", \"profile_pic\", \"profile_color\", \"_ver\", \"alias\", \"course\", \"i\", \"u\", \"etnp\", \"etfp\", \"results\"])"
   ]
  },
  {
   "cell_type": "code",
   "execution_count": null,
   "metadata": {},
   "outputs": [],
   "source": [
    "df.loc[df[\"division\"].str.upper().str.contains(\"RELAY\"), \"divisionType\"] = \"RELAY\"\n",
    "df.loc[df[\"division\"].str.upper().str.contains(\"ODIV\"), \"divisionType\"] = \"OPEN\"\n",
    "df.loc[df[\"division\"].str.upper().str.contains(\"PC\"), \"divisionType\"] = \"PC\"\n",
    "df.loc[df[\"division\"].str.upper().str.contains(\"GUIDE\"), \"divisionType\"] = \"GUIDE\"\n",
    "df.loc[df[\"division\"].str.upper().str.contains(\"PRO\"), \"divisionType\"] = \"PRO\"\n",
    "df[\"divisionType\"] = df[\"divisionType\"].fillna(\"AG\")\n",
    "#df[\"divisionType\"] = df[\"divisionType\"].fillna(\"PRO-AG\")"
   ]
  },
  {
   "cell_type": "code",
   "execution_count": null,
   "metadata": {},
   "outputs": [],
   "source": [
    "df[\"legDivPos\"] = df.loc[df[\"point\"].isin([\"SWIM\", \"T1\", \"BIKE\", \"T2\", \"FINISH\"]), :].groupby(by=[\"point\", \"divisionType\", \"division\"])[\"legTimeSeconds\"].rank(\"dense\")\n",
    "df[\"legSexPos\"] = df.loc[df[\"point\"].isin([\"SWIM\", \"T1\", \"BIKE\", \"T2\", \"FINISH\"]), :].groupby(by=[\"point\", \"divisionType\", \"sex\"])[\"legTimeSeconds\"].rank(\"dense\")\n",
    "df[\"legOvrPos\"] = df.loc[df[\"point\"].isin([\"SWIM\", \"T1\", \"BIKE\", \"T2\", \"FINISH\"]), :].groupby(by=[\"point\", \"divisionType\"])[\"legTimeSeconds\"].rank(\"dense\")\n",
    "\n",
    "df[\"finDivPos\"] = df.loc[df[\"point\"] == \"FINISH\", :].groupby(by=[\"point\", \"divisionType\", \"division\"])[\"netTimeSeconds\"].rank(\"dense\")\n",
    "df[\"finSexPos\"] = df.loc[df[\"point\"] == \"FINISH\", :].groupby(by=[\"point\", \"divisionType\", \"sex\"])[\"netTimeSeconds\"].rank(\"dense\")\n",
    "df[\"finOvrPos\"] = df.loc[df[\"point\"] == \"FINISH\", :].groupby(by=[\"point\", \"divisionType\"])[\"netTimeSeconds\"].rank(\"dense\")"
   ]
  },
  {
   "cell_type": "code",
   "execution_count": null,
   "metadata": {},
   "outputs": [],
   "source": [
    "points = df.groupby(\"point\")[[\"netTimeSeconds\"]].min()\n",
    "points[\"pointNum\"] = points[\"netTimeSeconds\"].rank(method=\"dense\").astype(\"int64\")\n",
    "points = points.drop(columns=[\"netTimeSeconds\"])"
   ]
  },
  {
   "cell_type": "code",
   "execution_count": null,
   "metadata": {},
   "outputs": [],
   "source": [
    "df = df.join(points[\"pointNum\"], on=\"point\")"
   ]
  },
  {
   "cell_type": "code",
   "execution_count": null,
   "metadata": {},
   "outputs": [],
   "source": [
    "df[\"maxPointNum\"] = df.groupby(by=[\"pid\"])[\"pointNum\"].transform(\"max\")"
   ]
  },
  {
   "cell_type": "code",
   "execution_count": null,
   "metadata": {},
   "outputs": [],
   "source": [
    "df[\"maxPointNetTimeSeconds\"] = df.loc[df[\"pointNum\"] == df[\"maxPointNum\"], \"netTimeSeconds\"]\n",
    "df[\"maxPointNetTimeSeconds\"] = df.groupby(by=[\"pid\"])[\"maxPointNetTimeSeconds\"].transform(\"min\")"
   ]
  },
  {
   "cell_type": "code",
   "execution_count": null,
   "metadata": {},
   "outputs": [],
   "source": [
    "df = df.sort_values(by=[\"maxPointNum\", \"maxPointNetTimeSeconds\"], ascending=[False, True])\n",
    "df[\"rank\"] = np.arange(len(df)) + 1\n",
    "df[\"rank\"] = df.groupby(by=[\"maxPointNum\", \"maxPointNetTimeSeconds\"])[\"rank\"].transform(\"mean\")\n",
    "df[\"rank\"] = df[\"rank\"].rank(method=\"dense\")"
   ]
  },
  {
   "cell_type": "code",
   "execution_count": null,
   "metadata": {},
   "outputs": [],
   "source": [
    "df = df.sort_values(by=[\"rank\", \"pointNum\"])"
   ]
  },
  {
   "cell_type": "code",
   "execution_count": null,
   "metadata": {},
   "outputs": [],
   "source": [
    "finishPointNum = df[\"pointNum\"].max()\n",
    "df[\"isDNF\"] = df[\"maxPointNum\"].values != finishPointNum"
   ]
  },
  {
   "cell_type": "code",
   "execution_count": null,
   "metadata": {},
   "outputs": [],
   "source": [
    "df.reset_index(inplace=True, drop=True)"
   ]
  },
  {
   "cell_type": "code",
   "execution_count": null,
   "metadata": {},
   "outputs": [],
   "source": [
    "df.to_csv(f\"{data_dir}/csv/{event_date}_{event_name.lower()}_tall.csv\")"
   ]
  },
  {
   "cell_type": "code",
   "execution_count": null,
   "metadata": {},
   "outputs": [],
   "source": [
    "df.loc[df[\"point\"] == \"SWIMEND\", \"point\"] = \"SWIM\"\n",
    "df.loc[df[\"point\"] == \"BIKESTART\", \"point\"] = \"T1\"\n",
    "df.loc[df[\"point\"] == \"BIKEEND\", \"point\"] = \"BIKE\"\n",
    "df.loc[df[\"point\"] == \"RUNSTART\", \"point\"] = \"T2\""
   ]
  },
  {
   "cell_type": "code",
   "execution_count": null,
   "metadata": {},
   "outputs": [],
   "source": [
    "df = df.loc[df[\"point\"].isin([\"SWIM\", \"T1\", \"BIKE\", \"T2\", \"FINISH\"]), :]\n",
    "df[\"point\"] = df[\"point\"].str.lower()\n",
    "df.loc[:, \"finDivPos\"] = df.groupby(by=[\"pid\"])[\"finDivPos\"].transform(\"max\")\n",
    "df.loc[:, \"finSexPos\"] = df.groupby(by=[\"pid\"])[\"finSexPos\"].transform(\"max\")\n",
    "df.loc[:, \"finOvrPos\"] = df.groupby(by=[\"pid\"])[\"finOvrPos\"].transform(\"max\")"
   ]
  },
  {
   "cell_type": "code",
   "execution_count": null,
   "metadata": {},
   "outputs": [],
   "source": [
    "df.rename(columns={\"legTime\": \"LegTime\", \"netTime\": \"NetTime\"}, inplace=True)"
   ]
  },
  {
   "cell_type": "code",
   "execution_count": null,
   "metadata": {},
   "outputs": [],
   "source": [
    "# Chunk by athlete to do the pivot\n",
    "dfs = [y for x, y in df.groupby('pid')]"
   ]
  },
  {
   "cell_type": "code",
   "execution_count": null,
   "metadata": {},
   "outputs": [],
   "source": [
    "for i in range(0, len(dfs)):\n",
    "    dfs[i] = pd.pivot_table(\n",
    "        dfs[i],\n",
    "        values=[\"LegTime\", \"NetTime\"],\n",
    "        index=[\"rank\", \"bib\", \"name\", \"country\", \"sex\", \"division\", \"divisionType\", \"finDivPos\", \"finSexPos\", \"finOvrPos\", \"isDNF\"],\n",
    "        columns=\"point\",\n",
    "        aggfunc=\"max\",\n",
    "        dropna=False,\n",
    "    )"
   ]
  },
  {
   "cell_type": "code",
   "execution_count": null,
   "metadata": {},
   "outputs": [],
   "source": [
    "df = pd.concat(dfs)"
   ]
  },
  {
   "cell_type": "code",
   "execution_count": null,
   "metadata": {},
   "outputs": [],
   "source": [
    "df = df.swaplevel(0, 1, axis=1).sort_index(axis=1)"
   ]
  },
  {
   "cell_type": "code",
   "execution_count": null,
   "metadata": {},
   "outputs": [],
   "source": [
    "df = df.reindex(level=\"point\", columns=[\"swim\", \"t1\", \"bike\", \"t2\", \"finish\"])"
   ]
  },
  {
   "cell_type": "code",
   "execution_count": null,
   "metadata": {},
   "outputs": [],
   "source": [
    "df.reset_index(inplace=True)"
   ]
  },
  {
   "cell_type": "code",
   "execution_count": null,
   "metadata": {},
   "outputs": [],
   "source": [
    "# From: https://stackoverflow.com/a/66829689\n",
    "df = df.pipe(lambda s: s.set_axis(s.columns.map(\"\".join), axis=1))"
   ]
  },
  {
   "cell_type": "code",
   "execution_count": null,
   "metadata": {},
   "outputs": [],
   "source": [
    "df = df.sort_values(by=[\"rank\"])"
   ]
  },
  {
   "cell_type": "code",
   "execution_count": null,
   "metadata": {},
   "outputs": [],
   "source": [
    "df.reset_index(inplace=True, drop=True)"
   ]
  },
  {
   "cell_type": "code",
   "execution_count": null,
   "metadata": {},
   "outputs": [],
   "source": [
    "df.to_csv(f\"{data_dir}/csv/{event_date}_{event_name.lower()}_wide.csv\")"
   ]
  }
 ],
 "metadata": {
  "kernelspec": {
   "display_name": "Python 3",
   "language": "python",
   "name": "python3"
  },
  "language_info": {
   "codemirror_mode": {
    "name": "ipython",
    "version": 3
   },
   "file_extension": ".py",
   "mimetype": "text/x-python",
   "name": "python",
   "nbconvert_exporter": "python",
   "pygments_lexer": "ipython3",
   "version": "3.10.12"
  }
 },
 "nbformat": 4,
 "nbformat_minor": 2
}
